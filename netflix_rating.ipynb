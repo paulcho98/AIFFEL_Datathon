{
 "cells": [
  {
   "cell_type": "markdown",
   "id": "8e148729",
   "metadata": {},
   "source": [
    "- 4 18세이상: TV-MA, R, NC-17 \n",
    "- 3 15세이상: TV-14,TV-PG,PG-13,PG,\n",
    "- 2 7세 이상: TV-Y7, TV-Y7-FV\n",
    "- 1 모든 연령층: TV-Y,TV-G,G,\n",
    "- 0 기타 : NR(NOT RATED), UR(UNRATED) , NAN "
   ]
  },
  {
   "cell_type": "code",
   "execution_count": null,
   "id": "6240555d",
   "metadata": {},
   "outputs": [],
   "source": [
    "data.groupby('rating').size().sort_values(ascending=False).head(20)"
   ]
  },
  {
   "cell_type": "code",
   "execution_count": null,
   "id": "f1193187",
   "metadata": {},
   "outputs": [],
   "source": [
    "# rating을 범주로 나눠준다. \n",
    "data['rating_band'] = 0\n",
    "\n",
    "data.loc[data['rating']=='TV-MA', 'rating_band'] = 4\n",
    "data.loc[data['rating']=='R', 'rating_band'] = 4\n",
    "data.loc[data['rating']=='NC-17', 'rating_band'] = 4\n",
    "\n",
    "data.loc[data['rating']=='TV-14', 'rating_band'] = 3\n",
    "data.loc[data['rating']=='TV-PG', 'rating_band'] = 3\n",
    "data.loc[data['rating']=='PG-13', 'rating_band'] = 3\n",
    "data.loc[data['rating']=='PG', 'rating_band'] = 3\n",
    "\n",
    "data.loc[data['rating']=='TV-Y7', 'rating_band'] = 2\n",
    "data.loc[data['rating']=='TV-Y7-FV', 'rating_band'] = 2\n",
    "\n",
    "data.loc[data['rating']=='TV-Y', 'rating_band'] = 1\n",
    "data.loc[data['rating']=='TV-G', 'rating_band'] = 1\n",
    "data.loc[data['rating']=='G', 'rating_band'] = 1\n",
    "\n",
    "data.loc[data['rating']=='NR', 'rating_band'] = 0\n",
    "data.loc[data['rating']=='UR', 'rating_band'] = 0\n",
    "\n",
    "data"
   ]
  },
  {
   "cell_type": "code",
   "execution_count": null,
   "id": "192f159a",
   "metadata": {},
   "outputs": [],
   "source": [
    "data_r.rating_band.isna().sum()\n",
    "# 값이 0 나와야 함"
   ]
  },
  {
   "cell_type": "code",
   "execution_count": null,
   "id": "3a7ce1f5",
   "metadata": {},
   "outputs": [],
   "source": [
    "data['rating_band'].value_counts().to_frame()"
   ]
  },
  {
   "cell_type": "markdown",
   "id": "99389292",
   "metadata": {},
   "source": [
    "###  연도별 월별 rating 분포 변화"
   ]
  },
  {
   "cell_type": "code",
   "execution_count": null,
   "id": "1f5e8f3c",
   "metadata": {},
   "outputs": [],
   "source": [
    "# 전체 데이터 \n",
    "year_order = ['2008', '2009', '2010', '2011', '2012', '2013', '2014', '2015', '2016', '2017', '2018', '2019', '2020', '2021']\n",
    "\n",
    "f, ax = plt.subplots(2, 2, figsize=(20,15))\n",
    "\n",
    "sns.countplot('rating_band', data=data, ax=ax[0,0])\n",
    "ax[0,0].set_title('No. of Rating')\n",
    "\n",
    "sns.countplot('added_year', hue='rating_band', data=data, order = year_order, ax=ax[0,1])\n",
    "ax[0,1].set_title('No. of Rating per Added Year')\n",
    "\n",
    "sns.countplot('rating_band', hue='added_month', data=data, hue_order=month_order, ax=ax[1,0])\n",
    "ax[1,0].set_title('Rating & Added Month')\n",
    "\n",
    "sns.countplot('added_month', hue='rating_band', data=data, order=month_order, ax=ax[1,1])\n",
    "ax[1,1].set_title('No. of Rating per Added Month')\n",
    "\n",
    "plt.subplots_adjust(wspace=0.2, hspace=0.5)\n",
    "plt.show()"
   ]
  },
  {
   "cell_type": "code",
   "execution_count": null,
   "id": "2ed0cd72",
   "metadata": {},
   "outputs": [],
   "source": [
    "# 영화 데이터\n",
    "data_rm = data[data['type']=='Movie']\n",
    "\n",
    "f, ax = plt.subplots(2, 2, figsize=(20,15))\n",
    "\n",
    "sns.countplot('rating_band', data=data_rm, ax=ax[0,0])\n",
    "ax[0,0].set_title('No. of Rating')\n",
    "\n",
    "#sns.countplot('rating_band', hue='added_year', data=data_r, ax=ax[0,1])\n",
    "#ax[0,1].set_title('')\n",
    "\n",
    "sns.countplot('added_year', hue='rating_band', data=data_rm, order = year_order, ax=ax[0,1])\n",
    "ax[0,1].set_title('No. of Rating per Added Year')\n",
    "\n",
    "sns.countplot('rating_band', hue='added_month', data=data_rm, hue_order=month_order, ax=ax[1,0])\n",
    "ax[1,0].set_title('Rating & Added Month')\n",
    "\n",
    "sns.countplot('added_month', hue='rating_band', data=data_rm, order=month_order, ax=ax[1,1])\n",
    "ax[1,1].set_title('No. of Rating per Added Month')\n",
    "\n",
    "plt.subplots_adjust(wspace=0.2, hspace=0.5)\n",
    "plt.show()"
   ]
  },
  {
   "cell_type": "code",
   "execution_count": null,
   "id": "47cca152",
   "metadata": {},
   "outputs": [],
   "source": [
    "# TV Show 데이터\n",
    "data_rt = data_r[data_r['type']=='TV Show']\n",
    "\n",
    "f, ax = plt.subplots(2, 2, figsize=(20,15))\n",
    "\n",
    "sns.countplot('rating_band', data=data_rt, ax=ax[0,0])\n",
    "ax[0,0].set_title('No. of Rating')\n",
    "\n",
    "#sns.countplot('rating_band', hue='added_year', data=data_r, ax=ax[0,1])\n",
    "#ax[0,1].set_title('')\n",
    "\n",
    "sns.countplot('added_year', hue='rating_band', data=data_rt, order = year_order, ax=ax[0,1])\n",
    "ax[0,1].set_title('No. of Rating per Added Year')\n",
    "\n",
    "sns.countplot('rating_band', hue='added_month', data=data_rt, hue_order=month_order, ax=ax[1,0])\n",
    "ax[1,0].set_title('Rating & Added Month')\n",
    "\n",
    "sns.countplot('added_month', hue='rating_band', data=data_rt, order=month_order, ax=ax[1,1])\n",
    "ax[1,1].set_title('No. of Rating per Added Month')\n",
    "\n",
    "plt.subplots_adjust(wspace=0.2, hspace=0.5)\n",
    "plt.show()"
   ]
  }
 ],
 "metadata": {
  "kernelspec": {
   "display_name": "Python 3 (ipykernel)",
   "language": "python",
   "name": "python3"
  },
  "language_info": {
   "codemirror_mode": {
    "name": "ipython",
    "version": 3
   },
   "file_extension": ".py",
   "mimetype": "text/x-python",
   "name": "python",
   "nbconvert_exporter": "python",
   "pygments_lexer": "ipython3",
   "version": "3.8.8"
  }
 },
 "nbformat": 4,
 "nbformat_minor": 5
}
