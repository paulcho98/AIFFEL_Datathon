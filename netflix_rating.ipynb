{
 "cells": [
  {
   "cell_type": "markdown",
   "id": "516c8145",
   "metadata": {},
   "source": [
    "- 4 18세이상: TV-MA, R, NC-17 \n",
    "- 3 15세이상: TV-14,TV-PG,PG-13,PG,\n",
    "- 2 7세 이상: TV-Y7, TV-Y7-FV\n",
    "- 1 모든 연령층: TV-Y,TV-G,G,\n",
    "- 0 기타 : NR(NOT RATED), UR(UNRATED) , NAN "
   ]
  },
  {
   "cell_type": "code",
   "execution_count": null,
   "id": "a198607c",
   "metadata": {},
   "outputs": [],
   "source": [
    "data.groupby('rating').size().sort_values(ascending=False).head(20)"
   ]
  },
  {
   "cell_type": "code",
   "execution_count": null,
   "id": "7aad6ab8",
   "metadata": {},
   "outputs": [],
   "source": [
    "# rating을 범주로 나눠준다. \n",
    "data['rating_band'] = 0\n",
    "\n",
    "data.loc[data['rating']=='TV-MA', 'rating_band'] = 4\n",
    "data.loc[data['rating']=='R', 'rating_band'] = 4\n",
    "data.loc[data['rating']=='NC-17', 'rating_band'] = 4\n",
    "\n",
    "data.loc[data['rating']=='TV-14', 'rating_band'] = 3\n",
    "data.loc[data['rating']=='TV-PG', 'rating_band'] = 3\n",
    "data.loc[data['rating']=='PG-13', 'rating_band'] = 3\n",
    "data.loc[data['rating']=='PG', 'rating_band'] = 3\n",
    "\n",
    "data.loc[data['rating']=='TV-Y7', 'rating_band'] = 2\n",
    "data.loc[data['rating']=='TV-Y7-FV', 'rating_band'] = 2\n",
    "\n",
    "data.loc[data['rating']=='TV-Y', 'rating_band'] = 1\n",
    "data.loc[data['rating']=='TV-G', 'rating_band'] = 1\n",
    "data.loc[data['rating']=='G', 'rating_band'] = 1\n",
    "\n",
    "data.loc[data['rating']=='NR', 'rating_band'] = 0\n",
    "data.loc[data['rating']=='UR', 'rating_band'] = 0\n",
    "\n",
    "data"
   ]
  },
  {
   "cell_type": "code",
   "execution_count": null,
   "id": "1d243d71",
   "metadata": {},
   "outputs": [],
   "source": [
    "data_r.rating_band.isna().sum()\n",
    "# 값이 0 나와야 함"
   ]
  },
  {
   "cell_type": "code",
   "execution_count": null,
   "id": "af921358",
   "metadata": {},
   "outputs": [],
   "source": [
    "data['rating_band'].value_counts().to_frame()"
   ]
  },
  {
   "cell_type": "markdown",
   "id": "d8e62fb9",
   "metadata": {},
   "source": [
    "###  연도별 월별 rating 분포 변화"
   ]
  },
  {
   "cell_type": "code",
   "execution_count": null,
   "id": "a7fe8d48",
   "metadata": {},
   "outputs": [],
   "source": [
    "year_order = ['2008', '2009', '2010', '2011', '2012', '2013', '2014', '2015', '2016', '2017', '2018', '2019', '2020', '2021']\n",
    "year_order_15 = ['2015', '2016', '2017', '2018', '2019', '2020', '2021']"
   ]
  },
  {
   "cell_type": "code",
   "execution_count": null,
   "id": "d62f6cef",
   "metadata": {},
   "outputs": [],
   "source": [
    "# 전체 데이터 \n",
    "f, ax = plt.subplots(2, 2, figsize=(20,15))\n",
    "\n",
    "sns.countplot('rating_band', data=data, ax=ax[0,0])\n",
    "ax[0,0].set_title('No. of Rating')\n",
    "\n",
    "sns.countplot('added_year', hue='rating_band', data=data, order = year_order, ax=ax[0,1])\n",
    "ax[0,1].set_title('No. of Rating per Added Year')\n",
    "\n",
    "sns.countplot('rating_band', hue='added_month', data=data, hue_order=month_order, ax=ax[1,0])\n",
    "ax[1,0].set_title('Rating & Added Month')\n",
    "\n",
    "sns.countplot('added_month', hue='rating_band', data=data, order=month_order, ax=ax[1,1])\n",
    "ax[1,1].set_title('No. of Rating per Added Month')\n",
    "\n",
    "plt.subplots_adjust(wspace=0.2, hspace=0.5)\n",
    "plt.show()"
   ]
  },
  {
   "cell_type": "code",
   "execution_count": null,
   "id": "2c9b24aa",
   "metadata": {},
   "outputs": [],
   "source": [
    "# 두 번째 그래프에서 15년도 이후 3, 4 번 rating만 자세히 확인\n",
    "sns.countplot('added_year', hue='rating_band', data=data_over15, order = year_order_15)\n",
    "plt.title('No. of Rating per Added Year(2015~)')\n",
    "plt.show()"
   ]
  },
  {
   "cell_type": "code",
   "execution_count": null,
   "id": "70aa379b",
   "metadata": {},
   "outputs": [],
   "source": [
    "# 영화 데이터 (15년도 이후부터)\n",
    "data_rm = data[(data['type']=='Movie')&(data['added_year']>='2015')]\n",
    "\n",
    "f, ax = plt.subplots(2, 2, figsize=(20,15))\n",
    "\n",
    "sns.countplot('rating_band', data=data_rm, ax=ax[0,0])\n",
    "ax[0,0].set_title('No. of Rating')\n",
    "\n",
    "sns.countplot('added_year', hue='rating_band', data=data_rm, order = year_order_15, ax=ax[0,1])\n",
    "ax[0,1].set_title('No. of Rating per Added Year')\n",
    "\n",
    "sns.countplot('rating_band', hue='added_month', data=data_rm, hue_order=month_order, ax=ax[1,0])\n",
    "ax[1,0].set_title('Rating & Added Month')\n",
    "\n",
    "sns.countplot('added_month', hue='rating_band', data=data_rm, order=month_order, ax=ax[1,1])\n",
    "ax[1,1].set_title('No. of Rating per Added Month')\n",
    "\n",
    "plt.subplots_adjust(wspace=0.2, hspace=0.5)\n",
    "plt.show()"
   ]
  },
  {
   "cell_type": "code",
   "execution_count": null,
   "id": "25963be0",
   "metadata": {},
   "outputs": [],
   "source": [
    "# TV Show 데이터\n",
    "data_rt = data[(data['type']=='TV Show')&(data['added_year']>='2015')]\n",
    "\n",
    "f, ax = plt.subplots(2, 2, figsize=(20,15))\n",
    "\n",
    "sns.countplot('rating_band', data=data_rt, ax=ax[0,0])\n",
    "ax[0,0].set_title('No. of Rating')\n",
    "\n",
    "#sns.countplot('rating_band', hue='added_year', data=data_r, ax=ax[0,1])\n",
    "#ax[0,1].set_title('')\n",
    "\n",
    "sns.countplot('added_year', hue='rating_band', data=data_rt, order = year_order, ax=ax[0,1])\n",
    "ax[0,1].set_title('No. of Rating per Added Year')\n",
    "\n",
    "sns.countplot('rating_band', hue='added_month', data=data_rt, hue_order=month_order, ax=ax[1,0])\n",
    "ax[1,0].set_title('Rating & Added Month')\n",
    "\n",
    "sns.countplot('added_month', hue='rating_band', data=data_rt, order=month_order, ax=ax[1,1])\n",
    "ax[1,1].set_title('No. of Rating per Added Month')\n",
    "\n",
    "plt.subplots_adjust(wspace=0.2, hspace=0.5)\n",
    "plt.show()"
   ]
  },
  {
   "cell_type": "markdown",
   "id": "9e49f368",
   "metadata": {},
   "source": [
    "### 국가별 시간에 따른 등급 분포_ 한국, 미국, 인도"
   ]
  },
  {
   "cell_type": "code",
   "execution_count": null,
   "id": "cf2def52",
   "metadata": {},
   "outputs": [],
   "source": [
    "# 한국 콘텐츠 등급은?\n",
    "data_rk = data[(data['country']=='South Korea')&(data['added_year']>='2015')]\n",
    "\n",
    "f, ax = plt.subplots(2, 2, figsize=(20,15))\n",
    "\n",
    "sns.countplot('rating_band', data=data_rk, ax=ax[0,0])\n",
    "ax[0,0].set_title('No. of Rating')\n",
    "\n",
    "sns.countplot('added_year', hue='rating_band', data=data_rk, order = year_order_15, ax=ax[0,1])\n",
    "ax[0,1].set_title('No. of Rating per Added Year')\n",
    "\n",
    "sns.countplot('rating_band', hue='added_month', data=data_rk, hue_order=month_order, ax=ax[1,0])\n",
    "ax[1,0].set_title('Rating & Added Month')\n",
    "\n",
    "sns.countplot('added_month', hue='rating_band', data=data_rk, order=month_order, ax=ax[1,1])\n",
    "ax[1,1].set_title('No. of Rating per Added Month')\n",
    "\n",
    "plt.subplots_adjust(wspace=0.2, hspace=0.5)\n",
    "plt.show()"
   ]
  },
  {
   "cell_type": "code",
   "execution_count": null,
   "id": "d5f79df4",
   "metadata": {},
   "outputs": [],
   "source": [
    "# 미국\n",
    "# 미국\n",
    "data_ru = data[(data['country']=='United States')&(data['added_year']>='2015')]\n",
    "\n",
    "f, ax = plt.subplots(2, 2, figsize=(20,15))\n",
    "\n",
    "sns.countplot('rating_band', data=data_ru, ax=ax[0,0])\n",
    "ax[0,0].set_title('No. of Rating')\n",
    "\n",
    "sns.countplot('added_year', hue='rating_band', data=data_ru, order = year_order_15, ax=ax[0,1])\n",
    "ax[0,1].set_title('No. of Rating per Added Year')\n",
    "\n",
    "sns.countplot('rating_band', hue='added_month', data=data_ru, hue_order=month_order, ax=ax[1,0])\n",
    "ax[1,0].set_title('Rating & Added Month')\n",
    "\n",
    "sns.countplot('added_month', hue='rating_band', data=data_ru, order=month_order, ax=ax[1,1])\n",
    "ax[1,1].set_title('No. of Rating per Added Month')\n",
    "\n",
    "plt.subplots_adjust(wspace=0.2, hspace=0.5)\n",
    "plt.show()"
   ]
  },
  {
   "cell_type": "code",
   "execution_count": null,
   "id": "0e239aa6",
   "metadata": {},
   "outputs": [],
   "source": [
    "# 인도\n",
    "data_ri = data_r[(data_r['country']=='India')&(data_r['added_year']>='2015')]\n",
    "\n",
    "f, ax = plt.subplots(2, 2, figsize=(20,15))\n",
    "\n",
    "sns.countplot('rating_band', data=data_ri, ax=ax[0,0])\n",
    "ax[0,0].set_title('No. of Rating')\n",
    "\n",
    "sns.countplot('added_year', hue='rating_band', data=data_ri, order = year_order_15, ax=ax[0,1])\n",
    "ax[0,1].set_title('No. of Rating per Added Year')\n",
    "\n",
    "sns.countplot('rating_band', hue='added_month', data=data_ri, hue_order=month_order, ax=ax[1,0])\n",
    "ax[1,0].set_title('Rating & Added Month')\n",
    "\n",
    "sns.countplot('added_month', hue='rating_band', data=data_ri, order=month_order, ax=ax[1,1])\n",
    "ax[1,1].set_title('No. of Rating per Added Month')\n",
    "\n",
    "plt.subplots_adjust(wspace=0.2, hspace=0.5)\n",
    "plt.show()"
   ]
  }
 ],
 "metadata": {
  "kernelspec": {
   "display_name": "Python 3 (ipykernel)",
   "language": "python",
   "name": "python3"
  },
  "language_info": {
   "codemirror_mode": {
    "name": "ipython",
    "version": 3
   },
   "file_extension": ".py",
   "mimetype": "text/x-python",
   "name": "python",
   "nbconvert_exporter": "python",
   "pygments_lexer": "ipython3",
   "version": "3.8.8"
  }
 },
 "nbformat": 4,
 "nbformat_minor": 5
}
