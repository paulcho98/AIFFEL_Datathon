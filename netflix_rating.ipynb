{
 "cells": [
  {
   "cell_type": "markdown",
   "id": "4feef35f",
   "metadata": {},
   "source": [
    "- 4 18세이상: TV-MA, R, NC-17 \n",
    "- 3 15세이상: TV-14,TV-PG,PG-13,PG,\n",
    "- 2 7세 이상: TV-Y7, TV-Y7-FV\n",
    "- 1 모든 연령층: TV-Y,TV-G,G,\n",
    "- 0 기타 : NR(NOT RATED), UR(UNRATED) , NAN "
   ]
  },
  {
   "cell_type": "code",
   "execution_count": null,
   "id": "cd2f1c84",
   "metadata": {},
   "outputs": [],
   "source": [
    "data.groupby('rating').size().sort_values(ascending=False).head(20)"
   ]
  },
  {
   "cell_type": "code",
   "execution_count": null,
   "id": "5efa74aa",
   "metadata": {},
   "outputs": [],
   "source": [
    "# rating을 범주로 나눠준다. \n",
    "data['rating_band'] = 0\n",
    "\n",
    "data.loc[data['rating']=='TV-MA', 'rating_band'] = 4\n",
    "data.loc[data['rating']=='R', 'rating_band'] = 4\n",
    "data.loc[data['rating']=='NC-17', 'rating_band'] = 4\n",
    "\n",
    "data.loc[data['rating']=='TV-14', 'rating_band'] = 3\n",
    "data.loc[data['rating']=='TV-PG', 'rating_band'] = 3\n",
    "data.loc[data['rating']=='PG-13', 'rating_band'] = 3\n",
    "data.loc[data['rating']=='PG', 'rating_band'] = 3\n",
    "\n",
    "data.loc[data['rating']=='TV-Y7', 'rating_band'] = 2\n",
    "data.loc[data['rating']=='TV-Y7-FV', 'rating_band'] = 2\n",
    "\n",
    "data.loc[data['rating']=='TV-Y', 'rating_band'] = 1\n",
    "data.loc[data['rating']=='TV-G', 'rating_band'] = 1\n",
    "data.loc[data['rating']=='G', 'rating_band'] = 1\n",
    "\n",
    "data.loc[data['rating']=='NR', 'rating_band'] = 0\n",
    "data.loc[data['rating']=='UR', 'rating_band'] = 0\n",
    "\n",
    "data"
   ]
  },
  {
   "cell_type": "code",
   "execution_count": null,
   "id": "9161cd8e",
   "metadata": {},
   "outputs": [],
   "source": [
    "data_r.rating_band.isna().sum()\n",
    "# 값이 0 나와야 함"
   ]
  },
  {
   "cell_type": "code",
   "execution_count": null,
   "id": "0c6ecae6",
   "metadata": {},
   "outputs": [],
   "source": [
    "data['rating_band'].value_counts().to_frame()"
   ]
  },
  {
   "cell_type": "markdown",
   "id": "08b0cd90",
   "metadata": {},
   "source": [
    "###  연도별 월별 rating 분포 변화"
   ]
  },
  {
   "cell_type": "code",
   "execution_count": null,
   "id": "d4272c58",
   "metadata": {},
   "outputs": [],
   "source": [
    "year_order = ['2008', '2009', '2010', '2011', '2012', '2013', '2014', '2015', '2016', '2017', '2018', '2019', '2020', '2021']\n",
    "f, ax = plt.subplots(2, 2, figsize=(20,15))\n",
    "\n",
    "sns.countplot('rating_band', data=data, ax=ax[0,0])\n",
    "ax[0,0].set_title('No. of Rating')\n",
    "\n",
    "#sns.countplot('rating_band', hue='added_year', data=data, ax=ax[0,1])\n",
    "#ax[0,1].set_title('')\n",
    "\n",
    "sns.countplot('added_year', hue='rating_band', data=data, order = year_order, ax=ax[0,1])\n",
    "ax[0,1].set_title('No. of Rating per Added Year')\n",
    "\n",
    "sns.countplot('rating_band', hue='added_month', data=data, ax=ax[1,0])\n",
    "ax[1,0].set_title('Rating & Added Month')\n",
    "\n",
    "sns.countplot('added_month', hue='rating_band', data=data, order=month_order, ax=ax[1,1])\n",
    "ax[1,1].set_title('No. of Rating per Added Month')\n",
    "\n",
    "plt.subplots_adjust(wspace=0.2, hspace=0.5)\n",
    "plt.show()"
   ]
  }
 ],
 "metadata": {
  "kernelspec": {
   "display_name": "Python 3 (ipykernel)",
   "language": "python",
   "name": "python3"
  },
  "language_info": {
   "codemirror_mode": {
    "name": "ipython",
    "version": 3
   },
   "file_extension": ".py",
   "mimetype": "text/x-python",
   "name": "python",
   "nbconvert_exporter": "python",
   "pygments_lexer": "ipython3",
   "version": "3.8.8"
  }
 },
 "nbformat": 4,
 "nbformat_minor": 5
}
