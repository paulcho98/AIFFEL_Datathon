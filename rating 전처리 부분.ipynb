{
 "cells": [
  {
   "cell_type": "code",
   "execution_count": null,
   "id": "6597453d",
   "metadata": {},
   "outputs": [],
   "source": [
    "data.groupby('rating').size().sort_values(ascending=False).head(20)"
   ]
  },
  {
   "cell_type": "code",
   "execution_count": null,
   "id": "8c76df6d",
   "metadata": {},
   "outputs": [],
   "source": [
    "# rating을 범주로 나눠준다. \n",
    "data = data.copy()\n",
    "data['rating_band'] = 0\n",
    "\n",
    "data.loc[data['rating']=='TV-MA', 'rating_band'] = 4\n",
    "data.loc[data['rating']=='R', 'rating_band'] = 4\n",
    "data.loc[data['rating']=='NC-17', 'rating_band'] = 4\n",
    "\n",
    "data.loc[data['rating']=='TV-14', 'rating_band'] = 3\n",
    "data.loc[data['rating']=='TV-PG', 'rating_band'] = 3\n",
    "data.loc[data['rating']=='PG-13', 'rating_band'] = 3\n",
    "data.loc[data['rating']=='PG', 'rating_band'] = 3\n",
    "\n",
    "data.loc[data['rating']=='TV-Y7', 'rating_band'] = 2\n",
    "data.loc[data['rating']=='TV-Y7-FV', 'rating_band'] = 2\n",
    "\n",
    "data.loc[data['rating']=='TV-Y', 'rating_band'] = 1\n",
    "data.loc[data['rating']=='TV-G', 'rating_band'] = 1\n",
    "data.loc[data['rating']=='G', 'rating_band'] = 1\n",
    "\n",
    "data.loc[data['rating']=='NR', 'rating_band'] = 0\n",
    "data.loc[data['rating']=='UR', 'rating_band'] = 0\n",
    "\n",
    "data"
   ]
  },
  {
   "cell_type": "code",
   "execution_count": null,
   "id": "558ca46c",
   "metadata": {},
   "outputs": [],
   "source": [
    "data_r.rating_band.isna().sum()\n",
    "# 값이 0 나와야 함"
   ]
  },
  {
   "cell_type": "code",
   "execution_count": null,
   "id": "e0beb814",
   "metadata": {},
   "outputs": [],
   "source": [
    "data['rating_band'].value_counts().to_frame()"
   ]
  }
 ],
 "metadata": {
  "kernelspec": {
   "display_name": "Python 3 (ipykernel)",
   "language": "python",
   "name": "python3"
  },
  "language_info": {
   "codemirror_mode": {
    "name": "ipython",
    "version": 3
   },
   "file_extension": ".py",
   "mimetype": "text/x-python",
   "name": "python",
   "nbconvert_exporter": "python",
   "pygments_lexer": "ipython3",
   "version": "3.8.8"
  }
 },
 "nbformat": 4,
 "nbformat_minor": 5
}
