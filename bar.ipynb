{
 "cells": [
  {
   "cell_type": "code",
   "execution_count": null,
   "id": "6087be3f",
   "metadata": {},
   "outputs": [],
   "source": [
    "a1 = data[data['type']=='Movie']['Dramas'].sum()\n",
    "a2 = data[data['type']=='Movie']['Comedies'].sum()\n",
    "a3 = data[data['type']=='Movie']['International Movies'].sum()"
   ]
  },
  {
   "cell_type": "code",
   "execution_count": null,
   "id": "90d9d4db",
   "metadata": {},
   "outputs": [],
   "source": [
    "year = ['2018', '2019', '2020', '2021'] # 바꿔야함"
   ]
  },
  {
   "cell_type": "code",
   "execution_count": null,
   "id": "e64d288a",
   "metadata": {},
   "outputs": [],
   "source": [
    "# 그림 사이즈, 바 굵기 조정\n",
    "fig, ax = plt.subplots(figsize=(12,6))\n",
    "bar_width = 0.25\n",
    "\n",
    "# 연도가 4개이므로 0, 1, 2, 3 위치를 기준으로 삼음\n",
    "index = np.arange(4)\n",
    "\n",
    "# 각 연도별로 3개 샵의 bar를 순서대로 나타내는 과정, 각 그래프는 0.25의 간격을 두고 그려짐\n",
    "b1 = plt.bar(index, a1, bar_width, alpha=0.4, color='red', label='Dramas')\n",
    "\n",
    "b2 = plt.bar(index + bar_width, a2, bar_width, alpha=0.4, color='blue', label='Comedies')\n",
    "\n",
    "b3 = plt.bar(index + 2 * bar_width, a3, bar_width, alpha=0.4, color='green', label='International Movies')\n",
    "\n",
    "# x축 위치를 정 가운데로 조정하고 x축의 텍스트를 year 정보와 매칭\n",
    "plt.xticks(np.arange(bar_width, 4 + bar_width, 1), year)\n",
    "\n",
    "# x축, y축 이름 및 범례 설정\n",
    "plt.xlabel('year', size = 13)\n",
    "plt.ylabel('genre', size = 13)\n",
    "plt.legend()\n",
    "plt.show()"
   ]
  }
 ],
 "metadata": {
  "kernelspec": {
   "display_name": "Python 3 (ipykernel)",
   "language": "python",
   "name": "python3"
  },
  "language_info": {
   "codemirror_mode": {
    "name": "ipython",
    "version": 3
   },
   "file_extension": ".py",
   "mimetype": "text/x-python",
   "name": "python",
   "nbconvert_exporter": "python",
   "pygments_lexer": "ipython3",
   "version": "3.8.8"
  }
 },
 "nbformat": 4,
 "nbformat_minor": 5
}
